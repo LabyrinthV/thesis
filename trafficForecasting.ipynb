{
 "cells": [
  {
   "cell_type": "code",
   "execution_count": 2,
   "metadata": {},
   "outputs": [
    {
     "ename": "",
     "evalue": "",
     "output_type": "error",
     "traceback": [
      "\u001b[1;31mThe Kernel crashed while executing code in the current cell or a previous cell. \n",
      "\u001b[1;31mPlease review the code in the cell(s) to identify a possible cause of the failure. \n",
      "\u001b[1;31mClick <a href='https://aka.ms/vscodeJupyterKernelCrash'>here</a> for more info. \n",
      "\u001b[1;31mView Jupyter <a href='command:jupyter.viewOutput'>log</a> for further details."
     ]
    }
   ],
   "source": [
    "# Import the necessary libraries\n",
    "import numpy as np\n",
    "import matplotlib.pyplot as plt\n",
    "import pandas as pd\n",
    "from sklearn.model_selection import train_test_split\n",
    "from sklearn.preprocessing import StandardScaler\n",
    "from sklearn.svm import SVC\n",
    "from sklearn.metrics import confusion_matrix\n",
    "from matplotlib.colors import ListedColormap\n",
    "from sklearn.metrics import accuracy_score\n",
    "from sklearn.metrics import classification_report\n",
    "\n",
    "# Import the datasets\n",
    "afreeca_df = pd.read_csv('./data/afreeca_dataset.csv')\n",
    "amazon_df = pd.read_csv('./data/amazon_dataset.csv')\n",
    "battleground_df = pd.read_csv('./data/battleground_dataset.csv')\n",
    "gamebox_df = pd.read_csv('./data/gamebox_dataset.csv')\n",
    "geforce_df = pd.read_csv('./data/geforce_dataset.csv')\n",
    "meet_df = pd.read_csv('./data/meet_dataset.csv')\n",
    "navernow_df = pd.read_csv('./data/navernow_dataset.csv')\n",
    "netflix_df = pd.read_csv('./data/netflix_dataset.csv')\n",
    "roblox_df = pd.read_csv('./data/roblox_dataset.csv')\n",
    "teams_df = pd.read_csv('./data/teams_dataset.csv')\n",
    "tft_df = pd.read_csv('./data/tft_dataset.csv')\n",
    "youtube_df = pd.read_csv('./data/youtube_dataset.csv')\n",
    "youtubeLive_df = pd.read_csv('./data/youtubeLive_dataset.csv')\n",
    "zepeto_df = pd.read_csv('./data/zepeto_dataset.csv')\n",
    "zoom_df = pd.read_csv('./data/zoom_dataset.csv')\n",
    "\n",
    "# Add datasets to a list\n",
    "datasets = [afreeca_df, amazon_df, battleground_df, gamebox_df, geforce_df, meet_df, navernow_df, netflix_df, roblox_df, teams_df, tft_df, youtube_df, youtubeLive_df, zepeto_df, zoom_df]\n",
    "\n",
    "# Create a list of the names of the datasets\n",
    "dataset_names = ['Afreeca', 'Amazon', 'Battleground', 'Gamebox', 'Geforce', 'Meet', 'Naver Now', 'Netflix', 'Roblox', 'Teams', 'TFT', 'YouTube', 'YouTube Live', 'Zepeto', 'Zoom']\n",
    "\n",
    "# Create copies of the datasets for DL and UL\n",
    "datasets_dl = datasets.copy()\n",
    "datasets_ul = datasets.copy()\n",
    "\n",
    "# Rename the index column to Time\n",
    "for i in range(len(datasets)):\n",
    "    datasets_dl[i] = datasets_dl[i].rename(columns={'Unnamed: 0': 'Time'})\n",
    "    datasets_ul[i] = datasets_ul[i].rename(columns={'Unnamed: 0': 'Time'})\n",
    "\n",
    "# For the dl datasets, remove the UL columns\n",
    "for i in range(len(datasets_dl)):\n",
    "    datasets_dl[i] = datasets_dl[i].drop(columns=['UL_bitrate'])\n",
    "\n",
    "# For the ul datasets, remove the DL columns\n",
    "for i in range(len(datasets_ul)):\n",
    "    datasets_ul[i] = datasets_ul[i].drop(columns=['DL_bitrate'])\n",
    "\n"
   ]
  },
  {
   "cell_type": "code",
   "execution_count": null,
   "metadata": {},
   "outputs": [],
   "source": []
  }
 ],
 "metadata": {
  "kernelspec": {
   "display_name": "Python 3",
   "language": "python",
   "name": "python3"
  },
  "language_info": {
   "codemirror_mode": {
    "name": "ipython",
    "version": 3
   },
   "file_extension": ".py",
   "mimetype": "text/x-python",
   "name": "python",
   "nbconvert_exporter": "python",
   "pygments_lexer": "ipython3",
   "version": "3.12.4"
  }
 },
 "nbformat": 4,
 "nbformat_minor": 2
}
